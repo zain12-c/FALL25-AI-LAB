{
 "cells": [
  {
   "cell_type": "markdown",
   "id": "a3d62ea1",
   "metadata": {},
   "source": [
    "## Task Num 01"
   ]
  },
  {
   "cell_type": "code",
   "execution_count": 7,
   "id": "09a5acd4",
   "metadata": {},
   "outputs": [
    {
     "name": "stdout",
     "output_type": "stream",
     "text": [
      "5591770009007263 is INVALID based on the custom Luhn algorithm.\n"
     ]
    }
   ],
   "source": [
    "def custom_luhn_check(card_number: str) -> bool:\n",
    "\n",
    "    if len(card_number) < 2 or not card_number.isdigit():\n",
    "        print(\"Invalid input. A minimum of two digits and only numeric characters are required.\")\n",
    "        return False\n",
    "\n",
    "    check_digit = int(card_number[-1])\n",
    "    digits = [int(d) for d in card_number[:-1]]\n",
    "\n",
    "    digits.reverse()\n",
    "\n",
    "    for i in range(0, len(digits), 2):\n",
    "        digits[i] *= 2\n",
    "\n",
    "    processed_digits = []\n",
    "    for i in range(len(digits)):\n",
    "        if i == 0:\n",
    "        \n",
    "            processed_digits.append(digits[i])\n",
    "        else:\n",
    "            over_value = digits[i - 1]\n",
    "            result = over_value - check_digit\n",
    "            processed_digits.append(result)\n",
    "\n",
    "    total = sum(processed_digits)\n",
    "\n",
    "    return total % 10 == 0\n",
    "\n",
    "\n",
    "user_input = input(\"Input the credit card number: \").strip()\n",
    "\n",
    "if custom_luhn_check(user_input):\n",
    "    print(f\"{user_input} is VALID based on the custom Luhn algorithm.\")\n",
    "else:\n",
    "    print(f\"{user_input} is INVALID based on the custom Luhn algorithm.\")\n"
   ]
  },
  {
   "cell_type": "markdown",
   "id": "40c17e7f",
   "metadata": {},
   "source": [
    "## Task num 02:"
   ]
  },
  {
   "cell_type": "code",
   "execution_count": 8,
   "id": "27c8b108",
   "metadata": {},
   "outputs": [
    {
     "name": "stdout",
     "output_type": "stream",
     "text": [
      "String without punctuation: My Name is Mian Zain Mughal\n"
     ]
    }
   ],
   "source": [
    "import string\n",
    "\n",
    "def remove_punctuation(text):\n",
    "\n",
    "    translator = str.maketrans('', '', string.punctuation)\n",
    "    return text.translate(translator)\n",
    "\n",
    "input_string = input(\"Enter a string: \")\n",
    "clean_string = remove_punctuation(input_string)\n",
    "print(\"String without punctuation:\", clean_string)\n"
   ]
  },
  {
   "cell_type": "markdown",
   "id": "f089e871",
   "metadata": {},
   "source": [
    "## Task num 03:"
   ]
  },
  {
   "cell_type": "code",
   "execution_count": 11,
   "id": "6dcfdb60",
   "metadata": {},
   "outputs": [
    {
     "name": "stdout",
     "output_type": "stream",
     "text": [
      "Sorted sentence: best is Rasikh sir teacher the\n"
     ]
    }
   ],
   "source": [
    "def sort_sentence_alphabetically(sentence):\n",
    "\n",
    "    words = sentence.split()\n",
    "\n",
    "    words.sort(key=str.lower)\n",
    "\n",
    "    return ' '.join(words)\n",
    "\n",
    "input_sentence = input(\"Input a sentence: \")\n",
    "sorted_sentence = sort_sentence_alphabetically(input_sentence)\n",
    "print(\"Sorted sentence:\", sorted_sentence)\n"
   ]
  },
  {
   "cell_type": "code",
   "execution_count": null,
   "id": "75d1a0fb",
   "metadata": {},
   "outputs": [],
   "source": []
  }
 ],
 "metadata": {
  "kernelspec": {
   "display_name": "base",
   "language": "python",
   "name": "python3"
  },
  "language_info": {
   "codemirror_mode": {
    "name": "ipython",
    "version": 3
   },
   "file_extension": ".py",
   "mimetype": "text/x-python",
   "name": "python",
   "nbconvert_exporter": "python",
   "pygments_lexer": "ipython3",
   "version": "3.12.7"
  }
 },
 "nbformat": 4,
 "nbformat_minor": 5
}
