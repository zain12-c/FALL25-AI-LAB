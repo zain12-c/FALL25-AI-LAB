{
 "cells": [
  {
   "cell_type": "markdown",
   "id": "aab516e7",
   "metadata": {},
   "source": [
    "## BFS without queue"
   ]
  },
  {
   "cell_type": "code",
   "execution_count": 5,
   "id": "03ef2a80",
   "metadata": {},
   "outputs": [
    {
     "name": "stdout",
     "output_type": "stream",
     "text": [
      "A\n",
      "B\n",
      "C\n",
      "D\n",
      "E\n",
      "F\n",
      "F\n"
     ]
    }
   ],
   "source": [
    "def bfs_without_queue(graph, current_nodes):\n",
    "    if not current_nodes:\n",
    "        return\n",
    "\n",
    "    next_nodes = []\n",
    "    for node in current_nodes:\n",
    "        print(node)\n",
    "        for neighbor in graph[node]:\n",
    "            next_nodes.append(neighbor)\n",
    "\n",
    "    bfs_without_queue(graph, next_nodes)\n",
    "\n",
    "graph = {\n",
    "    'A': ['B', 'C'],\n",
    "    'B': ['D', 'E'],\n",
    "    'C': ['F'],\n",
    "    'D': [],\n",
    "    'E': ['F'],\n",
    "    'F': []\n",
    "}\n",
    "\n",
    "bfs_without_queue(graph, ['A'])\n"
   ]
  },
  {
   "cell_type": "markdown",
   "id": "f8ffe7da",
   "metadata": {},
   "source": [
    "## BFS with queue"
   ]
  },
  {
   "cell_type": "code",
   "execution_count": 4,
   "id": "a6497d80",
   "metadata": {},
   "outputs": [
    {
     "name": "stdout",
     "output_type": "stream",
     "text": [
      "A\n",
      "B\n",
      "C\n",
      "D\n",
      "E\n",
      "F\n"
     ]
    }
   ],
   "source": [
    "def bfs(graph, start_node):\n",
    "    visited_nodes = set()         \n",
    "    queue = [start_node]        \n",
    "\n",
    "    while queue:\n",
    "        current_node = queue.pop(0)  \n",
    "\n",
    "        if current_node not in visited_nodes:\n",
    "            print(current_node)       \n",
    "            visited_nodes.add(current_node)  \n",
    "\n",
    "            for neighbor in graph[current_node]:\n",
    "                if neighbor not in visited_nodes:\n",
    "                    queue.append(neighbor)\n",
    " \n",
    "graph = {\n",
    "    'A': ['B', 'C'],\n",
    "    'B': ['D', 'E'],\n",
    "    'C': ['F'],\n",
    "    'D': [],\n",
    "    'E': ['F'],\n",
    "    'F': []\n",
    "}\n",
    " \n",
    "bfs(graph, 'A')\n",
    "\n"
   ]
  }
 ],
 "metadata": {
  "kernelspec": {
   "display_name": "base",
   "language": "python",
   "name": "python3"
  },
  "language_info": {
   "codemirror_mode": {
    "name": "ipython",
    "version": 3
   },
   "file_extension": ".py",
   "mimetype": "text/x-python",
   "name": "python",
   "nbconvert_exporter": "python",
   "pygments_lexer": "ipython3",
   "version": "3.12.7"
  }
 },
 "nbformat": 4,
 "nbformat_minor": 5
}
